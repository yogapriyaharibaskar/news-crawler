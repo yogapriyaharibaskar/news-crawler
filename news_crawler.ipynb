{
  "nbformat": 4,
  "nbformat_minor": 0,
  "metadata": {
    "colab": {
      "name": "news-crawler.ipynb",
      "provenance": [],
      "authorship_tag": "ABX9TyOlgg5hrmsyNtAQrVa6yDGQ",
      "include_colab_link": true
    },
    "kernelspec": {
      "name": "python3",
      "display_name": "Python 3"
    }
  },
  "cells": [
    {
      "cell_type": "markdown",
      "metadata": {
        "id": "view-in-github",
        "colab_type": "text"
      },
      "source": [
        "<a href=\"https://colab.research.google.com/github/yogapriyaharibaskar/news-crawler/blob/master/news_crawler.ipynb\" target=\"_parent\"><img src=\"https://colab.research.google.com/assets/colab-badge.svg\" alt=\"Open In Colab\"/></a>"
      ]
    },
    {
      "cell_type": "code",
      "metadata": {
        "id": "YF8NijX2Vxou",
        "colab_type": "code",
        "colab": {
          "base_uri": "https://localhost:8080/",
          "height": 370
        },
        "outputId": "61f5a264-176f-4f78-e082-820742eee269"
      },
      "source": [
        "pip install newspaper3k"
      ],
      "execution_count": 61,
      "outputs": [
        {
          "output_type": "stream",
          "text": [
            "Requirement already satisfied: newspaper3k in /usr/local/lib/python3.6/dist-packages (0.2.8)\n",
            "Requirement already satisfied: python-dateutil>=2.5.3 in /usr/local/lib/python3.6/dist-packages (from newspaper3k) (2.8.1)\n",
            "Requirement already satisfied: tldextract>=2.0.1 in /usr/local/lib/python3.6/dist-packages (from newspaper3k) (2.2.2)\n",
            "Requirement already satisfied: requests>=2.10.0 in /usr/local/lib/python3.6/dist-packages (from newspaper3k) (2.21.0)\n",
            "Requirement already satisfied: lxml>=3.6.0 in /usr/local/lib/python3.6/dist-packages (from newspaper3k) (4.2.6)\n",
            "Requirement already satisfied: feedfinder2>=0.0.4 in /usr/local/lib/python3.6/dist-packages (from newspaper3k) (0.0.4)\n",
            "Requirement already satisfied: PyYAML>=3.11 in /usr/local/lib/python3.6/dist-packages (from newspaper3k) (3.13)\n",
            "Requirement already satisfied: Pillow>=3.3.0 in /usr/local/lib/python3.6/dist-packages (from newspaper3k) (7.0.0)\n",
            "Requirement already satisfied: beautifulsoup4>=4.4.1 in /usr/local/lib/python3.6/dist-packages (from newspaper3k) (4.6.3)\n",
            "Requirement already satisfied: feedparser>=5.2.1 in /usr/local/lib/python3.6/dist-packages (from newspaper3k) (5.2.1)\n",
            "Requirement already satisfied: jieba3k>=0.35.1 in /usr/local/lib/python3.6/dist-packages (from newspaper3k) (0.35.1)\n",
            "Requirement already satisfied: cssselect>=0.9.2 in /usr/local/lib/python3.6/dist-packages (from newspaper3k) (1.1.0)\n",
            "Requirement already satisfied: nltk>=3.2.1 in /usr/local/lib/python3.6/dist-packages (from newspaper3k) (3.2.5)\n",
            "Requirement already satisfied: tinysegmenter==0.3 in /usr/local/lib/python3.6/dist-packages (from newspaper3k) (0.3)\n",
            "Requirement already satisfied: six>=1.5 in /usr/local/lib/python3.6/dist-packages (from python-dateutil>=2.5.3->newspaper3k) (1.12.0)\n",
            "Requirement already satisfied: idna in /usr/local/lib/python3.6/dist-packages (from tldextract>=2.0.1->newspaper3k) (2.8)\n",
            "Requirement already satisfied: requests-file>=1.4 in /usr/local/lib/python3.6/dist-packages (from tldextract>=2.0.1->newspaper3k) (1.5.0)\n",
            "Requirement already satisfied: setuptools in /usr/local/lib/python3.6/dist-packages (from tldextract>=2.0.1->newspaper3k) (46.1.3)\n",
            "Requirement already satisfied: urllib3<1.25,>=1.21.1 in /usr/local/lib/python3.6/dist-packages (from requests>=2.10.0->newspaper3k) (1.24.3)\n",
            "Requirement already satisfied: chardet<3.1.0,>=3.0.2 in /usr/local/lib/python3.6/dist-packages (from requests>=2.10.0->newspaper3k) (3.0.4)\n",
            "Requirement already satisfied: certifi>=2017.4.17 in /usr/local/lib/python3.6/dist-packages (from requests>=2.10.0->newspaper3k) (2020.4.5.1)\n"
          ],
          "name": "stdout"
        }
      ]
    },
    {
      "cell_type": "code",
      "metadata": {
        "id": "2-RaiCe4Vqug",
        "colab_type": "code",
        "colab": {}
      },
      "source": [
        "import requests\n",
        "from bs4 import BeautifulSoup\n",
        "from newspaper import Article  \n",
        "import csv \n",
        "import pandas as pd\n",
        "import numpy as np"
      ],
      "execution_count": 0,
      "outputs": []
    },
    {
      "cell_type": "code",
      "metadata": {
        "id": "JwmJVFTCVt0z",
        "colab_type": "code",
        "colab": {}
      },
      "source": [
        "url = \"https://timesofindia.indiatimes.com/world\"\n",
        "r = requests.get(url)"
      ],
      "execution_count": 0,
      "outputs": []
    },
    {
      "cell_type": "code",
      "metadata": {
        "id": "vrYIPfCvWK_1",
        "colab_type": "code",
        "colab": {}
      },
      "source": [
        "soup = BeautifulSoup(r.content, 'html5lib') \n",
        "table = soup.findAll('a', attrs = {'class':'w_img'})"
      ],
      "execution_count": 0,
      "outputs": []
    },
    {
      "cell_type": "code",
      "metadata": {
        "id": "Up-kwXPrWOna",
        "colab_type": "code",
        "colab": {}
      },
      "source": [
        "news=[]\n",
        "for row in table: \n",
        "    if not row['href'].startswith('http'):\n",
        "        news.append('https://timesofindia.indiatimes.com/world'+row['href'])"
      ],
      "execution_count": 0,
      "outputs": []
    },
    {
      "cell_type": "code",
      "metadata": {
        "id": "7xD-E_JpZp6T",
        "colab_type": "code",
        "colab": {
          "base_uri": "https://localhost:8080/",
          "height": 67
        },
        "outputId": "387d2d05-bb63-43b0-c88f-2e1fcc4bc927"
      },
      "source": [
        "\n",
        "import nltk\n",
        "nltk.download('punkt')"
      ],
      "execution_count": 66,
      "outputs": [
        {
          "output_type": "stream",
          "text": [
            "[nltk_data] Downloading package punkt to /root/nltk_data...\n",
            "[nltk_data]   Package punkt is already up-to-date!\n"
          ],
          "name": "stdout"
        },
        {
          "output_type": "execute_result",
          "data": {
            "text/plain": [
              "True"
            ]
          },
          "metadata": {
            "tags": []
          },
          "execution_count": 66
        }
      ]
    },
    {
      "cell_type": "code",
      "metadata": {
        "id": "m_qT4CLtaNAu",
        "colab_type": "code",
        "colab": {}
      },
      "source": [
        "df=[]\n",
        "for i in news:\n",
        "    article = Article(i, language=\"en\")\n",
        "    article.download() \n",
        "    article.parse() \n",
        "    article.nlp() \n",
        "    data={}\n",
        "    data['Title']=article.title\n",
        "    data['Text']=article.text\n",
        "    data['Summary']=article.summary\n",
        "    data['Keywords']=article.keywords\n",
        "    df.append(data)"
      ],
      "execution_count": 0,
      "outputs": []
    },
    {
      "cell_type": "code",
      "metadata": {
        "id": "5F8dV7dFWckX",
        "colab_type": "code",
        "colab": {
          "base_uri": "https://localhost:8080/",
          "height": 279
        },
        "outputId": "0095576b-6451-4766-ba94-e1f5e3914a42"
      },
      "source": [
        "dataset=pd.DataFrame(df)\n",
        "dataset.head()"
      ],
      "execution_count": 68,
      "outputs": [
        {
          "output_type": "execute_result",
          "data": {
            "text/html": [
              "<div>\n",
              "<style scoped>\n",
              "    .dataframe tbody tr th:only-of-type {\n",
              "        vertical-align: middle;\n",
              "    }\n",
              "\n",
              "    .dataframe tbody tr th {\n",
              "        vertical-align: top;\n",
              "    }\n",
              "\n",
              "    .dataframe thead th {\n",
              "        text-align: right;\n",
              "    }\n",
              "</style>\n",
              "<table border=\"1\" class=\"dataframe\">\n",
              "  <thead>\n",
              "    <tr style=\"text-align: right;\">\n",
              "      <th></th>\n",
              "      <th>Title</th>\n",
              "      <th>Text</th>\n",
              "      <th>Summary</th>\n",
              "      <th>Keywords</th>\n",
              "    </tr>\n",
              "  </thead>\n",
              "  <tbody>\n",
              "    <tr>\n",
              "      <th>0</th>\n",
              "      <td>Covid-19: US states begin easing lockdowns</td>\n",
              "      <td>Download The Times of India News App for Lates...</td>\n",
              "      <td>Download The Times of India News App for Lates...</td>\n",
              "      <td>[lockdown, reported, deaths, daily, easing, st...</td>\n",
              "    </tr>\n",
              "    <tr>\n",
              "      <th>1</th>\n",
              "      <td>Covid-19: Lockdown reveals fresh and clean air...</td>\n",
              "      <td>Covid-19: Lockdown reveals fresh and clean air...</td>\n",
              "      <td>Covid-19: Lockdown reveals fresh and clean air...</td>\n",
              "      <td>[lockdown, stay, turning, india, visibility, a...</td>\n",
              "    </tr>\n",
              "    <tr>\n",
              "      <th>2</th>\n",
              "      <td>Iran's Guard says it launched satellite</td>\n",
              "      <td>Iran's Guard says it launched satellite\\n\\nSou...</td>\n",
              "      <td>Iran's Guard says it launched satelliteSource:...</td>\n",
              "      <td>[united, state, satellite, guard, tensions, ir...</td>\n",
              "    </tr>\n",
              "    <tr>\n",
              "      <th>3</th>\n",
              "      <td>Covid-19: Virus shutdown shows human impact on...</td>\n",
              "      <td>Covid-19: Virus shutdown shows human impact on...</td>\n",
              "      <td>Covid-19: Virus shutdown shows human impact on...</td>\n",
              "      <td>[shows, wales, earth, virus, air, human, covid...</td>\n",
              "    </tr>\n",
              "    <tr>\n",
              "      <th>4</th>\n",
              "      <td>San Francisco: Dog stolen in December has joyo...</td>\n",
              "      <td>San Francisco: Dog stolen in December has joyo...</td>\n",
              "      <td>San Francisco: Dog stolen in December has joyo...</td>\n",
              "      <td>[owner, san, dog, search, white, joyous, reuni...</td>\n",
              "    </tr>\n",
              "  </tbody>\n",
              "</table>\n",
              "</div>"
            ],
            "text/plain": [
              "                                               Title  ...                                           Keywords\n",
              "0         Covid-19: US states begin easing lockdowns  ...  [lockdown, reported, deaths, daily, easing, st...\n",
              "1  Covid-19: Lockdown reveals fresh and clean air...  ...  [lockdown, stay, turning, india, visibility, a...\n",
              "2            Iran's Guard says it launched satellite  ...  [united, state, satellite, guard, tensions, ir...\n",
              "3  Covid-19: Virus shutdown shows human impact on...  ...  [shows, wales, earth, virus, air, human, covid...\n",
              "4  San Francisco: Dog stolen in December has joyo...  ...  [owner, san, dog, search, white, joyous, reuni...\n",
              "\n",
              "[5 rows x 4 columns]"
            ]
          },
          "metadata": {
            "tags": []
          },
          "execution_count": 68
        }
      ]
    },
    {
      "cell_type": "code",
      "metadata": {
        "id": "XNnaMfQ7WfWT",
        "colab_type": "code",
        "colab": {}
      },
      "source": [
        "from sklearn.ensemble import RandomForestRegressor\n",
        "from sklearn.model_selection import train_test_split"
      ],
      "execution_count": 0,
      "outputs": []
    },
    {
      "cell_type": "code",
      "metadata": {
        "id": "Ibc_4a7Eaawq",
        "colab_type": "code",
        "colab": {}
      },
      "source": [
        "FILEPATH=\"/content/OnlineNewsPopularity.csv\""
      ],
      "execution_count": 0,
      "outputs": []
    },
    {
      "cell_type": "code",
      "metadata": {
        "id": "YHIqx3_jb6gG",
        "colab_type": "code",
        "colab": {}
      },
      "source": [
        " def clean_cols(data):\n",
        "    \"\"\"Clean the column names by stripping and lowercase.\"\"\"\n",
        "    clean_col_map = {x: x.lower().strip() for x in list(data)}\n",
        "    return data.rename(index=str, columns=clean_col_map)\n",
        "\n",
        "def TrainTestSplit(X, Y, R=0, test_size=0.2):\n",
        "    \"\"\"Easy Train Test Split call.\"\"\"\n",
        "    return train_test_split(X, Y, test_size=test_size, random_state=R)"
      ],
      "execution_count": 0,
      "outputs": []
    },
    {
      "cell_type": "code",
      "metadata": {
        "id": "UByxuYQxcEGj",
        "colab_type": "code",
        "colab": {}
      },
      "source": [
        "full_data = clean_cols(pd.read_csv(FILEPATH))\n",
        "train_set, test_set = train_test_split(full_data, test_size=0.20, random_state=42)\n",
        "\n",
        "x_train = train_set.drop(['url','shares', 'timedelta', 'lda_00','lda_01','lda_02','lda_03','lda_04','num_self_hrefs', 'kw_min_min', 'kw_max_min', 'kw_avg_min','kw_min_max','kw_max_max','kw_avg_max','kw_min_avg','kw_max_avg','kw_avg_avg','self_reference_min_shares','self_reference_max_shares','self_reference_avg_sharess','rate_positive_words','rate_negative_words','abs_title_subjectivity','abs_title_sentiment_polarity'], axis=1)\n",
        "y_train = train_set['shares']\n",
        "\n",
        "x_test = test_set.drop(['url','shares', 'timedelta', 'num_self_hrefs', 'kw_min_min', 'kw_max_min', 'kw_avg_min','kw_min_max','kw_max_max','kw_avg_max','kw_min_avg','kw_max_avg','kw_avg_avg','self_reference_min_shares','self_reference_max_shares','self_reference_avg_sharess','rate_positive_words','rate_negative_words','abs_title_subjectivity','abs_title_sentiment_polarity'], axis=1)\n",
        "y_test = test_set['shares']"
      ],
      "execution_count": 0,
      "outputs": []
    },
    {
      "cell_type": "code",
      "metadata": {
        "id": "KnhKKg88cG8k",
        "colab_type": "code",
        "colab": {
          "base_uri": "https://localhost:8080/",
          "height": 134
        },
        "outputId": "cfede234-5326-4650-fdbe-d546b9e8189a"
      },
      "source": [
        "clf = RandomForestRegressor(random_state=42)\n",
        "clf.fit(x_train, y_train)"
      ],
      "execution_count": 73,
      "outputs": [
        {
          "output_type": "execute_result",
          "data": {
            "text/plain": [
              "RandomForestRegressor(bootstrap=True, ccp_alpha=0.0, criterion='mse',\n",
              "                      max_depth=None, max_features='auto', max_leaf_nodes=None,\n",
              "                      max_samples=None, min_impurity_decrease=0.0,\n",
              "                      min_impurity_split=None, min_samples_leaf=1,\n",
              "                      min_samples_split=2, min_weight_fraction_leaf=0.0,\n",
              "                      n_estimators=100, n_jobs=None, oob_score=False,\n",
              "                      random_state=42, verbose=0, warm_start=False)"
            ]
          },
          "metadata": {
            "tags": []
          },
          "execution_count": 73
        }
      ]
    },
    {
      "cell_type": "code",
      "metadata": {
        "id": "1KsUNSFYcyYo",
        "colab_type": "code",
        "colab": {}
      },
      "source": [
        "rf_res = pd.DataFrame(clf.predict(x_train),list(y_train))"
      ],
      "execution_count": 0,
      "outputs": []
    },
    {
      "cell_type": "code",
      "metadata": {
        "id": "6EPRwsM_c3KN",
        "colab_type": "code",
        "colab": {
          "base_uri": "https://localhost:8080/",
          "height": 195
        },
        "outputId": "6890885e-5795-4674-a71e-8940145fcd8f"
      },
      "source": [
        "rf_res.reset_index(level=0, inplace=True)\n",
        "rf_res_df = rf_res.rename(index=str, columns={\"index\": \"Actual shares\", 0: \"Predicted shares\"})\n",
        "rf_res_df.head()"
      ],
      "execution_count": 75,
      "outputs": [
        {
          "output_type": "execute_result",
          "data": {
            "text/html": [
              "<div>\n",
              "<style scoped>\n",
              "    .dataframe tbody tr th:only-of-type {\n",
              "        vertical-align: middle;\n",
              "    }\n",
              "\n",
              "    .dataframe tbody tr th {\n",
              "        vertical-align: top;\n",
              "    }\n",
              "\n",
              "    .dataframe thead th {\n",
              "        text-align: right;\n",
              "    }\n",
              "</style>\n",
              "<table border=\"1\" class=\"dataframe\">\n",
              "  <thead>\n",
              "    <tr style=\"text-align: right;\">\n",
              "      <th></th>\n",
              "      <th>Actual shares</th>\n",
              "      <th>Predicted shares</th>\n",
              "    </tr>\n",
              "  </thead>\n",
              "  <tbody>\n",
              "    <tr>\n",
              "      <th>0</th>\n",
              "      <td>16100</td>\n",
              "      <td>11247.11</td>\n",
              "    </tr>\n",
              "    <tr>\n",
              "      <th>1</th>\n",
              "      <td>508</td>\n",
              "      <td>882.22</td>\n",
              "    </tr>\n",
              "    <tr>\n",
              "      <th>2</th>\n",
              "      <td>1300</td>\n",
              "      <td>1864.97</td>\n",
              "    </tr>\n",
              "    <tr>\n",
              "      <th>3</th>\n",
              "      <td>3100</td>\n",
              "      <td>3627.22</td>\n",
              "    </tr>\n",
              "    <tr>\n",
              "      <th>4</th>\n",
              "      <td>6900</td>\n",
              "      <td>5415.02</td>\n",
              "    </tr>\n",
              "  </tbody>\n",
              "</table>\n",
              "</div>"
            ],
            "text/plain": [
              "   Actual shares  Predicted shares\n",
              "0          16100          11247.11\n",
              "1            508            882.22\n",
              "2           1300           1864.97\n",
              "3           3100           3627.22\n",
              "4           6900           5415.02"
            ]
          },
          "metadata": {
            "tags": []
          },
          "execution_count": 75
        }
      ]
    },
    {
      "cell_type": "code",
      "metadata": {
        "id": "olFcnBkrdIAT",
        "colab_type": "code",
        "colab": {
          "base_uri": "https://localhost:8080/",
          "height": 67
        },
        "outputId": "c1949d80-1e39-446d-a031-2e762b77c99a"
      },
      "source": [
        "import nltk\n",
        "nltk.download('stopwords')\n",
        "  "
      ],
      "execution_count": 76,
      "outputs": [
        {
          "output_type": "stream",
          "text": [
            "[nltk_data] Downloading package stopwords to /root/nltk_data...\n",
            "[nltk_data]   Package stopwords is already up-to-date!\n"
          ],
          "name": "stdout"
        },
        {
          "output_type": "execute_result",
          "data": {
            "text/plain": [
              "True"
            ]
          },
          "metadata": {
            "tags": []
          },
          "execution_count": 76
        }
      ]
    },
    {
      "cell_type": "code",
      "metadata": {
        "id": "ixX_ZG_oc99T",
        "colab_type": "code",
        "colab": {}
      },
      "source": [
        "from nltk.tokenize import word_tokenize \n",
        "from nltk.corpus import stopwords\n",
        "stopwords=set(stopwords.words('english'))"
      ],
      "execution_count": 0,
      "outputs": []
    },
    {
      "cell_type": "code",
      "metadata": {
        "id": "swrA8XZIdDd8",
        "colab_type": "code",
        "colab": {}
      },
      "source": [
        "def rate_unique(words):\n",
        "    words=tokenize(words)\n",
        "    no_order = list(set(words))\n",
        "    rate_unique=len(no_order)/len(words)\n",
        "    return rate_unique"
      ],
      "execution_count": 0,
      "outputs": []
    },
    {
      "cell_type": "code",
      "metadata": {
        "id": "T_ZDhzcldPXQ",
        "colab_type": "code",
        "colab": {}
      },
      "source": [
        "def rate_nonstop(words):\n",
        "    words=tokenize(words)\n",
        "    filtered_sentence = [w for w in words if not w in stopwords]\n",
        "    rate_nonstop=len(filtered_sentence)/len(words)\n",
        "    no_order = list(set(filtered_sentence))\n",
        "    rate_unique_nonstop=len(no_order)/len(words)\n",
        "    return rate_nonstop,rate_unique_nonstop"
      ],
      "execution_count": 0,
      "outputs": []
    },
    {
      "cell_type": "code",
      "metadata": {
        "id": "QP2-AzJadQq_",
        "colab_type": "code",
        "colab": {}
      },
      "source": [
        "def avg_token(words):\n",
        "    words=tokenize(words)\n",
        "    length=[]\n",
        "    for i in words:\n",
        "        length.append(len(i))\n",
        "    return np.average(length)"
      ],
      "execution_count": 0,
      "outputs": []
    },
    {
      "cell_type": "code",
      "metadata": {
        "id": "dkNqyLL4dSf-",
        "colab_type": "code",
        "colab": {}
      },
      "source": [
        "from textblob import TextBlob"
      ],
      "execution_count": 0,
      "outputs": []
    },
    {
      "cell_type": "code",
      "metadata": {
        "id": "HqEpBRxxdazR",
        "colab_type": "code",
        "colab": {
          "base_uri": "https://localhost:8080/",
          "height": 101
        },
        "outputId": "214804c4-7b4d-49e5-c7c9-f1fbba4f3df3"
      },
      "source": [
        "pip install datefinder"
      ],
      "execution_count": 82,
      "outputs": [
        {
          "output_type": "stream",
          "text": [
            "Requirement already satisfied: datefinder in /usr/local/lib/python3.6/dist-packages (0.7.0)\n",
            "Requirement already satisfied: python-dateutil>=2.4.2 in /usr/local/lib/python3.6/dist-packages (from datefinder) (2.8.1)\n",
            "Requirement already satisfied: pytz in /usr/local/lib/python3.6/dist-packages (from datefinder) (2018.9)\n",
            "Requirement already satisfied: regex>=2017.02.08 in /usr/local/lib/python3.6/dist-packages (from datefinder) (2019.12.20)\n",
            "Requirement already satisfied: six>=1.5 in /usr/local/lib/python3.6/dist-packages (from python-dateutil>=2.4.2->datefinder) (1.12.0)\n"
          ],
          "name": "stdout"
        }
      ]
    },
    {
      "cell_type": "code",
      "metadata": {
        "id": "zZDa1EsidUKf",
        "colab_type": "code",
        "colab": {}
      },
      "source": [
        "import datefinder\n",
        "import datetime  \n",
        "from datetime import date \n",
        "def day(article_text):\n",
        "    article=article_text\n",
        "    if len(list(datefinder.find_dates(article)))>0:\n",
        "        date=str(list(datefinder.find_dates(article))[0])\n",
        "        date=date.split()\n",
        "        date=date[0]\n",
        "        year, month, day = date.split('-')     \n",
        "        day_name = datetime.date(int(year), int(month), int(day)) \n",
        "        return day_name.strftime(\"%A\")\n",
        "    return \"Monday\""
      ],
      "execution_count": 0,
      "outputs": []
    },
    {
      "cell_type": "code",
      "metadata": {
        "id": "panfInQJdXv3",
        "colab_type": "code",
        "colab": {}
      },
      "source": [
        "def tokenize(text):\n",
        "    text=text\n",
        "    return word_tokenize(text)"
      ],
      "execution_count": 0,
      "outputs": []
    },
    {
      "cell_type": "code",
      "metadata": {
        "id": "W4l8cnzNdf-o",
        "colab_type": "code",
        "colab": {}
      },
      "source": [
        "pos_words=[]\n",
        "neg_words=[]\n",
        "def polar(words):\n",
        "    all_tokens=tokenize(words)\n",
        "    for i in all_tokens:\n",
        "        analysis=TextBlob(i)\n",
        "        polarity=analysis.sentiment.polarity\n",
        "        if polarity>0:\n",
        "            pos_words.append(i)\n",
        "        if polarity<0:\n",
        "            neg_words.append(i)\n",
        "    return pos_words,neg_words"
      ],
      "execution_count": 0,
      "outputs": []
    },
    {
      "cell_type": "code",
      "metadata": {
        "id": "gWq1woWpdhgD",
        "colab_type": "code",
        "colab": {}
      },
      "source": [
        "def rates(words):\n",
        "    words=polar(words)\n",
        "    pos=words[0]\n",
        "    neg=words[1]\n",
        "    all_words=words\n",
        "    global_rate_positive_words=(len(pos)/len(all_words))/100\n",
        "    global_rate_negative_words=(len(neg)/len(all_words))/100\n",
        "    pol_pos=[]\n",
        "    pol_neg=[]\n",
        "    for i in pos:\n",
        "        analysis=TextBlob(i)\n",
        "        pol_pos.append(analysis.sentiment.polarity)\n",
        "        avg_positive_polarity=analysis.sentiment.polarity\n",
        "    for j in neg:\n",
        "        analysis2=TextBlob(j)\n",
        "        pol_neg.append(analysis2.sentiment.polarity)\n",
        "        avg_negative_polarity=analysis2.sentiment.polarity\n",
        "    min_positive_polarity=min(pol_pos)\n",
        "    max_positive_polarity=max(pol_pos)\n",
        "    min_negative_polarity=min(pol_neg)\n",
        "    max_negative_polarity=max(pol_neg)\n",
        "    avg_positive_polarity=np.average(pol_pos)\n",
        "    avg_negative_polarity=np.average(pol_neg)\n",
        "    return global_rate_positive_words,global_rate_negative_words,avg_positive_polarity,min_positive_polarity,max_positive_polarity,avg_negative_polarity,min_negative_polarity,max_negative_polarity"
      ],
      "execution_count": 0,
      "outputs": []
    },
    {
      "cell_type": "code",
      "metadata": {
        "id": "b2kz2a8vf2Qe",
        "colab_type": "code",
        "colab": {}
      },
      "source": [
        "df2=[]\n",
        "for i in news:\n",
        "    pred_info={}\n",
        "    article = Article(i, language=\"en\") # en for English \n",
        "    try:\n",
        "      article.download()\n",
        "      article.parse()\n",
        "    except newspaper.article.ArticleException:\n",
        "      analysis=TextBlob(article.text)\n",
        "      polarity=analysis.sentiment.polarity\n",
        "      title_analysis=TextBlob(article.title)\n",
        "      pred_info['text']=article.text\n",
        "      pred_info['n_tokens_title']=len(tokenize(article.title))\n",
        "      pred_info['n_tokens_content']=len(tokenize(article.text))\n",
        "      pred_info['n_unique_tokens']=rate_unique(article.text)\n",
        "      pred_info['n_non_stop_words']=rate_nonstop(article.text)[0]\n",
        "      pred_info['n_non_stop_unique_tokens']=rate_nonstop(article.text)[1]\n",
        "      pred_info['num_hrefs']=article.html.count(\"https://timesofindia.indiatimes.com\")\n",
        "      pred_info['num_imgs']=len(article.images)\n",
        "      pred_info['num_videos']=len(article.movies)\n",
        "      pred_info['average_token_length']=avg_token(article.text)\n",
        "      pred_info['num_keywords']=len(article.keywords)\n",
        "      \n",
        "      if \"life-style\" in article.url:\n",
        "          pred_info['data_channel_is_lifestyle']=1\n",
        "      else:\n",
        "          pred_info['data_channel_is_lifestyle']=0\n",
        "      if \"etimes\" in article.url:\n",
        "          pred_info['data_channel_is_entertainment']=1\n",
        "      else:\n",
        "          pred_info['data_channel_is_entertainment']=0\n",
        "      if \"business\" in article.url:\n",
        "          pred_info['data_channel_is_bus']=1\n",
        "      else:\n",
        "          pred_info['data_channel_is_bus']=0\n",
        "      if \"social media\" or \"facebook\" or \"whatsapp\" in article.text.lower():\n",
        "          data_channel_is_socmed=1\n",
        "          data_channel_is_tech=0\n",
        "          data_channel_is_world=0\n",
        "      else:\n",
        "          data_channel_is_socmed=0\n",
        "      if (\"technology\" or \"tech\" in article.text.lower()) or (\"technology\" or \"tech\" in article.url):\n",
        "          data_channel_is_tech=1\n",
        "          data_channel_is_socmed=0\n",
        "          data_channel_is_world=0\n",
        "      else:\n",
        "          data_channel_is_tech=0\n",
        "      if \"world\" in article.url:\n",
        "          data_channel_is_world=1\n",
        "          data_channel_is_tech=0\n",
        "          data_channel_is_socmed=0\n",
        "      else:\n",
        "          data_channel_is_world=0\n",
        "          \n",
        "      pred_info['data_channel_is_socmed']=data_channel_is_socmed\n",
        "      pred_info['data_channel_is_tech']=data_channel_is_tech\n",
        "      pred_info['data_channel_is_world']=data_channel_is_world\n",
        "      \n",
        "      if day(i)==\"Monday\":\n",
        "          pred_info['weekday_is_monday']=1\n",
        "      else:\n",
        "          pred_info['weekday_is_monday']=0\n",
        "      if day(i)==\"Tuesday\":\n",
        "          pred_info['weekday_is_tuesday']=1\n",
        "      else:\n",
        "          pred_info['weekday_is_tuesday']=0\n",
        "      if day(i)==\"Wednesday\":\n",
        "          pred_info['weekday_is_wednesday']=1\n",
        "      else:\n",
        "          pred_info['weekday_is_wednesday']=0\n",
        "      if day(i)==\"Thursday\":\n",
        "          pred_info['weekday_is_thursday']=1\n",
        "      else:\n",
        "          pred_info['weekday_is_thursday']=0\n",
        "      if day(i)==\"Friday\":\n",
        "          pred_info['weekday_is_friday']=1\n",
        "      else:\n",
        "          pred_info['weekday_is_friday']=0\n",
        "      if day(i)==\"Saturday\":\n",
        "          pred_info['weekday_is_saturday']=1\n",
        "          pred_info['is_weekend']=1\n",
        "      else:\n",
        "          pred_info['weekday_is_saturday']=0\n",
        "      if day(i)==\"Sunday\":\n",
        "          pred_info['weekday_is_sunday']=1\n",
        "          pred_info['is_weekend']=1\n",
        "      else:\n",
        "          pred_info['weekday_is_sunday']=0\n",
        "          pred_info['is_weekend']=0\n",
        "          \n",
        "      pred_info['global_subjectivity']=analysis.sentiment.subjectivity\n",
        "      pred_info['global_sentiment_polarity']=analysis.sentiment.polarity\n",
        "      pred_info['global_rate_positive_words']=rates(article.text)[0]\n",
        "      pred_info['global_rate_negative_words']=rates(article.text)[1]\n",
        "      pred_info['avg_positive_polarity']=rates(article.text)[2]\n",
        "      pred_info['min_positive_polarity']=rates(article.text)[3]\n",
        "      pred_info['max_positive_polarity']=rates(article.text)[4]\n",
        "      pred_info['avg_negative_polarity']=rates(article.text)[5]\n",
        "      pred_info['min_negative_polarity']=rates(article.text)[6]\n",
        "      pred_info['max_negative_polarity']=rates(article.text)[7]    \n",
        "      pred_info['title_subjectivity']=title_analysis.sentiment.subjectivity\n",
        "      pred_info['title_sentiment_polarity']=title_analysis.sentiment.polarity\n",
        "      df2.append(pred_info)"
      ],
      "execution_count": 0,
      "outputs": []
    },
    {
      "cell_type": "code",
      "metadata": {
        "id": "9UlWY3Hbd5JN",
        "colab_type": "code",
        "colab": {
          "base_uri": "https://localhost:8080/",
          "height": 450
        },
        "outputId": "cb5da104-fe04-4548-b3a7-820bb7f23ad1"
      },
      "source": [
        "pred_df=pd.DataFrame(df2)\n",
        "pred_test=pred_df.drop(['text'],axis=1)\n",
        "pred_df.head()"
      ],
      "execution_count": 89,
      "outputs": [
        {
          "output_type": "execute_result",
          "data": {
            "text/html": [
              "<div>\n",
              "<style scoped>\n",
              "    .dataframe tbody tr th:only-of-type {\n",
              "        vertical-align: middle;\n",
              "    }\n",
              "\n",
              "    .dataframe tbody tr th {\n",
              "        vertical-align: top;\n",
              "    }\n",
              "\n",
              "    .dataframe thead th {\n",
              "        text-align: right;\n",
              "    }\n",
              "</style>\n",
              "<table border=\"1\" class=\"dataframe\">\n",
              "  <thead>\n",
              "    <tr style=\"text-align: right;\">\n",
              "      <th></th>\n",
              "      <th>text</th>\n",
              "      <th>n_tokens_title</th>\n",
              "      <th>n_tokens_content</th>\n",
              "      <th>n_unique_tokens</th>\n",
              "      <th>n_non_stop_words</th>\n",
              "      <th>n_non_stop_unique_tokens</th>\n",
              "      <th>num_hrefs</th>\n",
              "      <th>num_imgs</th>\n",
              "      <th>num_videos</th>\n",
              "      <th>average_token_length</th>\n",
              "      <th>num_keywords</th>\n",
              "      <th>data_channel_is_lifestyle</th>\n",
              "      <th>data_channel_is_entertainment</th>\n",
              "      <th>data_channel_is_bus</th>\n",
              "      <th>data_channel_is_socmed</th>\n",
              "      <th>data_channel_is_tech</th>\n",
              "      <th>data_channel_is_world</th>\n",
              "      <th>weekday_is_monday</th>\n",
              "      <th>weekday_is_tuesday</th>\n",
              "      <th>weekday_is_wednesday</th>\n",
              "      <th>weekday_is_thursday</th>\n",
              "      <th>weekday_is_friday</th>\n",
              "      <th>weekday_is_saturday</th>\n",
              "      <th>weekday_is_sunday</th>\n",
              "      <th>is_weekend</th>\n",
              "      <th>global_subjectivity</th>\n",
              "      <th>global_sentiment_polarity</th>\n",
              "      <th>global_rate_positive_words</th>\n",
              "      <th>global_rate_negative_words</th>\n",
              "      <th>avg_positive_polarity</th>\n",
              "      <th>min_positive_polarity</th>\n",
              "      <th>max_positive_polarity</th>\n",
              "      <th>avg_negative_polarity</th>\n",
              "      <th>min_negative_polarity</th>\n",
              "      <th>max_negative_polarity</th>\n",
              "      <th>title_subjectivity</th>\n",
              "      <th>title_sentiment_polarity</th>\n",
              "    </tr>\n",
              "  </thead>\n",
              "  <tbody>\n",
              "    <tr>\n",
              "      <th>0</th>\n",
              "      <td>Download The Times of India News App for Lates...</td>\n",
              "      <td>7</td>\n",
              "      <td>1082</td>\n",
              "      <td>0.497227</td>\n",
              "      <td>0.662662</td>\n",
              "      <td>0.433457</td>\n",
              "      <td>240</td>\n",
              "      <td>13</td>\n",
              "      <td>0</td>\n",
              "      <td>4.733826</td>\n",
              "      <td>0</td>\n",
              "      <td>0</td>\n",
              "      <td>0</td>\n",
              "      <td>0</td>\n",
              "      <td>0</td>\n",
              "      <td>0</td>\n",
              "      <td>1</td>\n",
              "      <td>0</td>\n",
              "      <td>0</td>\n",
              "      <td>0</td>\n",
              "      <td>0</td>\n",
              "      <td>0</td>\n",
              "      <td>0</td>\n",
              "      <td>1</td>\n",
              "      <td>1</td>\n",
              "      <td>0.368109</td>\n",
              "      <td>0.088019</td>\n",
              "      <td>12.905</td>\n",
              "      <td>5.94</td>\n",
              "      <td>0.344252</td>\n",
              "      <td>0.033333</td>\n",
              "      <td>1.0</td>\n",
              "      <td>-0.257768</td>\n",
              "      <td>-1.0</td>\n",
              "      <td>-0.05</td>\n",
              "      <td>0.0</td>\n",
              "      <td>0.000000</td>\n",
              "    </tr>\n",
              "    <tr>\n",
              "      <th>1</th>\n",
              "      <td>Covid-19: Lockdown reveals fresh and clean air...</td>\n",
              "      <td>10</td>\n",
              "      <td>127</td>\n",
              "      <td>0.692913</td>\n",
              "      <td>0.755906</td>\n",
              "      <td>0.598425</td>\n",
              "      <td>174</td>\n",
              "      <td>10</td>\n",
              "      <td>0</td>\n",
              "      <td>4.543307</td>\n",
              "      <td>0</td>\n",
              "      <td>0</td>\n",
              "      <td>0</td>\n",
              "      <td>0</td>\n",
              "      <td>0</td>\n",
              "      <td>0</td>\n",
              "      <td>1</td>\n",
              "      <td>0</td>\n",
              "      <td>0</td>\n",
              "      <td>0</td>\n",
              "      <td>0</td>\n",
              "      <td>0</td>\n",
              "      <td>0</td>\n",
              "      <td>1</td>\n",
              "      <td>1</td>\n",
              "      <td>0.545202</td>\n",
              "      <td>0.146338</td>\n",
              "      <td>14.240</td>\n",
              "      <td>6.39</td>\n",
              "      <td>0.339895</td>\n",
              "      <td>0.033333</td>\n",
              "      <td>1.0</td>\n",
              "      <td>-0.256019</td>\n",
              "      <td>-1.0</td>\n",
              "      <td>-0.05</td>\n",
              "      <td>0.6</td>\n",
              "      <td>0.333333</td>\n",
              "    </tr>\n",
              "    <tr>\n",
              "      <th>2</th>\n",
              "      <td>Iran's Guard says it launched satellite\\n\\nSou...</td>\n",
              "      <td>7</td>\n",
              "      <td>92</td>\n",
              "      <td>0.771739</td>\n",
              "      <td>0.706522</td>\n",
              "      <td>0.576087</td>\n",
              "      <td>176</td>\n",
              "      <td>10</td>\n",
              "      <td>0</td>\n",
              "      <td>4.847826</td>\n",
              "      <td>0</td>\n",
              "      <td>0</td>\n",
              "      <td>0</td>\n",
              "      <td>0</td>\n",
              "      <td>0</td>\n",
              "      <td>0</td>\n",
              "      <td>1</td>\n",
              "      <td>1</td>\n",
              "      <td>0</td>\n",
              "      <td>0</td>\n",
              "      <td>0</td>\n",
              "      <td>0</td>\n",
              "      <td>0</td>\n",
              "      <td>0</td>\n",
              "      <td>0</td>\n",
              "      <td>0.391667</td>\n",
              "      <td>0.030000</td>\n",
              "      <td>14.530</td>\n",
              "      <td>6.50</td>\n",
              "      <td>0.339412</td>\n",
              "      <td>0.033333</td>\n",
              "      <td>1.0</td>\n",
              "      <td>-0.255860</td>\n",
              "      <td>-1.0</td>\n",
              "      <td>-0.05</td>\n",
              "      <td>0.0</td>\n",
              "      <td>0.000000</td>\n",
              "    </tr>\n",
              "    <tr>\n",
              "      <th>3</th>\n",
              "      <td>Covid-19: Virus shutdown shows human impact on...</td>\n",
              "      <td>9</td>\n",
              "      <td>206</td>\n",
              "      <td>0.665049</td>\n",
              "      <td>0.703883</td>\n",
              "      <td>0.543689</td>\n",
              "      <td>178</td>\n",
              "      <td>10</td>\n",
              "      <td>0</td>\n",
              "      <td>4.184466</td>\n",
              "      <td>0</td>\n",
              "      <td>0</td>\n",
              "      <td>0</td>\n",
              "      <td>0</td>\n",
              "      <td>0</td>\n",
              "      <td>0</td>\n",
              "      <td>1</td>\n",
              "      <td>0</td>\n",
              "      <td>0</td>\n",
              "      <td>0</td>\n",
              "      <td>0</td>\n",
              "      <td>0</td>\n",
              "      <td>0</td>\n",
              "      <td>1</td>\n",
              "      <td>1</td>\n",
              "      <td>0.436789</td>\n",
              "      <td>0.133785</td>\n",
              "      <td>14.655</td>\n",
              "      <td>6.61</td>\n",
              "      <td>0.339112</td>\n",
              "      <td>0.033333</td>\n",
              "      <td>1.0</td>\n",
              "      <td>-0.254346</td>\n",
              "      <td>-1.0</td>\n",
              "      <td>-0.05</td>\n",
              "      <td>0.1</td>\n",
              "      <td>0.000000</td>\n",
              "    </tr>\n",
              "    <tr>\n",
              "      <th>4</th>\n",
              "      <td>San Francisco: Dog stolen in December has joyo...</td>\n",
              "      <td>12</td>\n",
              "      <td>159</td>\n",
              "      <td>0.672956</td>\n",
              "      <td>0.672956</td>\n",
              "      <td>0.509434</td>\n",
              "      <td>178</td>\n",
              "      <td>10</td>\n",
              "      <td>0</td>\n",
              "      <td>4.245283</td>\n",
              "      <td>0</td>\n",
              "      <td>0</td>\n",
              "      <td>0</td>\n",
              "      <td>0</td>\n",
              "      <td>0</td>\n",
              "      <td>0</td>\n",
              "      <td>1</td>\n",
              "      <td>0</td>\n",
              "      <td>0</td>\n",
              "      <td>0</td>\n",
              "      <td>0</td>\n",
              "      <td>1</td>\n",
              "      <td>0</td>\n",
              "      <td>0</td>\n",
              "      <td>0</td>\n",
              "      <td>0.417222</td>\n",
              "      <td>0.123333</td>\n",
              "      <td>15.055</td>\n",
              "      <td>6.78</td>\n",
              "      <td>0.339685</td>\n",
              "      <td>0.033333</td>\n",
              "      <td>1.0</td>\n",
              "      <td>-0.255000</td>\n",
              "      <td>-1.0</td>\n",
              "      <td>-0.05</td>\n",
              "      <td>0.0</td>\n",
              "      <td>0.000000</td>\n",
              "    </tr>\n",
              "  </tbody>\n",
              "</table>\n",
              "</div>"
            ],
            "text/plain": [
              "                                                text  ...  title_sentiment_polarity\n",
              "0  Download The Times of India News App for Lates...  ...                  0.000000\n",
              "1  Covid-19: Lockdown reveals fresh and clean air...  ...                  0.333333\n",
              "2  Iran's Guard says it launched satellite\\n\\nSou...  ...                  0.000000\n",
              "3  Covid-19: Virus shutdown shows human impact on...  ...                  0.000000\n",
              "4  San Francisco: Dog stolen in December has joyo...  ...                  0.000000\n",
              "\n",
              "[5 rows x 37 columns]"
            ]
          },
          "metadata": {
            "tags": []
          },
          "execution_count": 89
        }
      ]
    },
    {
      "cell_type": "code",
      "metadata": {
        "id": "qUbmpmp8eGlU",
        "colab_type": "code",
        "colab": {
          "base_uri": "https://localhost:8080/",
          "height": 1000
        },
        "outputId": "63421371-15ec-43d3-e16f-0f5d9658bb9d"
      },
      "source": [
        "test2=pd.DataFrame(clf.predict(pred_test),pred_df['text'])\n",
        "test2.reset_index(level=0, inplace=True)\n",
        "test2 = test2.rename(index=str, columns={\"index\": \"News\", 0: \"Virality\"})\n",
        "test2"
      ],
      "execution_count": 90,
      "outputs": [
        {
          "output_type": "execute_result",
          "data": {
            "text/html": [
              "<div>\n",
              "<style scoped>\n",
              "    .dataframe tbody tr th:only-of-type {\n",
              "        vertical-align: middle;\n",
              "    }\n",
              "\n",
              "    .dataframe tbody tr th {\n",
              "        vertical-align: top;\n",
              "    }\n",
              "\n",
              "    .dataframe thead th {\n",
              "        text-align: right;\n",
              "    }\n",
              "</style>\n",
              "<table border=\"1\" class=\"dataframe\">\n",
              "  <thead>\n",
              "    <tr style=\"text-align: right;\">\n",
              "      <th></th>\n",
              "      <th>text</th>\n",
              "      <th>Virality</th>\n",
              "    </tr>\n",
              "  </thead>\n",
              "  <tbody>\n",
              "    <tr>\n",
              "      <th>0</th>\n",
              "      <td>Download The Times of India News App for Lates...</td>\n",
              "      <td>19531.03</td>\n",
              "    </tr>\n",
              "    <tr>\n",
              "      <th>1</th>\n",
              "      <td>Covid-19: Lockdown reveals fresh and clean air...</td>\n",
              "      <td>19998.43</td>\n",
              "    </tr>\n",
              "    <tr>\n",
              "      <th>2</th>\n",
              "      <td>Iran's Guard says it launched satellite\\n\\nSou...</td>\n",
              "      <td>21272.37</td>\n",
              "    </tr>\n",
              "    <tr>\n",
              "      <th>3</th>\n",
              "      <td>Covid-19: Virus shutdown shows human impact on...</td>\n",
              "      <td>19197.37</td>\n",
              "    </tr>\n",
              "    <tr>\n",
              "      <th>4</th>\n",
              "      <td>San Francisco: Dog stolen in December has joyo...</td>\n",
              "      <td>18225.69</td>\n",
              "    </tr>\n",
              "    <tr>\n",
              "      <th>5</th>\n",
              "      <td>COVID-19: Oil prices drop to historic lows aft...</td>\n",
              "      <td>26195.27</td>\n",
              "    </tr>\n",
              "    <tr>\n",
              "      <th>6</th>\n",
              "      <td>Covid-19: Los Angeles study indicates higher i...</td>\n",
              "      <td>20295.47</td>\n",
              "    </tr>\n",
              "    <tr>\n",
              "      <th>7</th>\n",
              "      <td>Covid-19: President Trump says 'politics' is b...</td>\n",
              "      <td>21683.48</td>\n",
              "    </tr>\n",
              "    <tr>\n",
              "      <th>8</th>\n",
              "      <td>Covid-19: Cemetery races to keep up as New Yor...</td>\n",
              "      <td>21324.15</td>\n",
              "    </tr>\n",
              "    <tr>\n",
              "      <th>9</th>\n",
              "      <td>Texans visit state parks in governor’s 'reopen...</td>\n",
              "      <td>21565.60</td>\n",
              "    </tr>\n",
              "    <tr>\n",
              "      <th>10</th>\n",
              "      <td>Covid-19: Protest in favour of easing lockdown...</td>\n",
              "      <td>20805.40</td>\n",
              "    </tr>\n",
              "    <tr>\n",
              "      <th>11</th>\n",
              "      <td>Download The Times of India News App for Lates...</td>\n",
              "      <td>19545.03</td>\n",
              "    </tr>\n",
              "    <tr>\n",
              "      <th>12</th>\n",
              "      <td>Download The Times of India News App for Lates...</td>\n",
              "      <td>20987.14</td>\n",
              "    </tr>\n",
              "    <tr>\n",
              "      <th>13</th>\n",
              "      <td>Download The Times of India News App for Lates...</td>\n",
              "      <td>51588.68</td>\n",
              "    </tr>\n",
              "    <tr>\n",
              "      <th>14</th>\n",
              "      <td>Download The Times of India News App for Lates...</td>\n",
              "      <td>19722.16</td>\n",
              "    </tr>\n",
              "    <tr>\n",
              "      <th>15</th>\n",
              "      <td>File photo used for representation.(Reuters)\\n...</td>\n",
              "      <td>18665.20</td>\n",
              "    </tr>\n",
              "    <tr>\n",
              "      <th>16</th>\n",
              "      <td>Download The Times of India News App for Lates...</td>\n",
              "      <td>22482.64</td>\n",
              "    </tr>\n",
              "    <tr>\n",
              "      <th>17</th>\n",
              "      <td>A Shiite Huthi rebel fighter stands guard duri...</td>\n",
              "      <td>20980.96</td>\n",
              "    </tr>\n",
              "    <tr>\n",
              "      <th>18</th>\n",
              "      <td>Download The Times of India News App for Lates...</td>\n",
              "      <td>18498.25</td>\n",
              "    </tr>\n",
              "    <tr>\n",
              "      <th>19</th>\n",
              "      <td>A man was arrested at the N12 roadblock on Fri...</td>\n",
              "      <td>19256.66</td>\n",
              "    </tr>\n",
              "    <tr>\n",
              "      <th>20</th>\n",
              "      <td>Indian-American lawyer Seema Nanda: ( Twitter/...</td>\n",
              "      <td>17256.28</td>\n",
              "    </tr>\n",
              "    <tr>\n",
              "      <th>21</th>\n",
              "      <td>Image credit: Twitter/@UHpres\\n\\nDownload The ...</td>\n",
              "      <td>15468.99</td>\n",
              "    </tr>\n",
              "    <tr>\n",
              "      <th>22</th>\n",
              "      <td>Representative image (Reuters)\\n\\nDownload The...</td>\n",
              "      <td>22640.93</td>\n",
              "    </tr>\n",
              "    <tr>\n",
              "      <th>23</th>\n",
              "      <td>Dr Uma Madhusudana\\n\\nDownload The Times of In...</td>\n",
              "      <td>18924.51</td>\n",
              "    </tr>\n",
              "    <tr>\n",
              "      <th>24</th>\n",
              "      <td>Representative Image\\n\\nDownload The Times of ...</td>\n",
              "      <td>17466.40</td>\n",
              "    </tr>\n",
              "    <tr>\n",
              "      <th>25</th>\n",
              "      <td>Representative image\\n\\nDownload The Times of ...</td>\n",
              "      <td>14295.14</td>\n",
              "    </tr>\n",
              "    <tr>\n",
              "      <th>26</th>\n",
              "      <td>Indian-American Congressman Ro Khanna\\n\\nDownl...</td>\n",
              "      <td>15616.45</td>\n",
              "    </tr>\n",
              "    <tr>\n",
              "      <th>27</th>\n",
              "      <td>Representative photo. (AFP)\\n\\nDownload The Ti...</td>\n",
              "      <td>20914.98</td>\n",
              "    </tr>\n",
              "    <tr>\n",
              "      <th>28</th>\n",
              "      <td>Covid-19: How cops are using innovative ideas ...</td>\n",
              "      <td>22492.84</td>\n",
              "    </tr>\n",
              "    <tr>\n",
              "      <th>29</th>\n",
              "      <td>From supporting each other in their respective...</td>\n",
              "      <td>16534.48</td>\n",
              "    </tr>\n",
              "    <tr>\n",
              "      <th>30</th>\n",
              "      <td>Sara Ali Khan is back again with another knock...</td>\n",
              "      <td>19357.51</td>\n",
              "    </tr>\n",
              "    <tr>\n",
              "      <th>31</th>\n",
              "      <td>Alphabet CEO Sundar Pichai's 2019 compensation...</td>\n",
              "      <td>19533.57</td>\n",
              "    </tr>\n",
              "    <tr>\n",
              "      <th>32</th>\n",
              "      <td>Watch: Wild elephant enjoys evening walk in de...</td>\n",
              "      <td>20979.83</td>\n",
              "    </tr>\n",
              "  </tbody>\n",
              "</table>\n",
              "</div>"
            ],
            "text/plain": [
              "                                                 text  Virality\n",
              "0   Download The Times of India News App for Lates...  19531.03\n",
              "1   Covid-19: Lockdown reveals fresh and clean air...  19998.43\n",
              "2   Iran's Guard says it launched satellite\\n\\nSou...  21272.37\n",
              "3   Covid-19: Virus shutdown shows human impact on...  19197.37\n",
              "4   San Francisco: Dog stolen in December has joyo...  18225.69\n",
              "5   COVID-19: Oil prices drop to historic lows aft...  26195.27\n",
              "6   Covid-19: Los Angeles study indicates higher i...  20295.47\n",
              "7   Covid-19: President Trump says 'politics' is b...  21683.48\n",
              "8   Covid-19: Cemetery races to keep up as New Yor...  21324.15\n",
              "9   Texans visit state parks in governor’s 'reopen...  21565.60\n",
              "10  Covid-19: Protest in favour of easing lockdown...  20805.40\n",
              "11  Download The Times of India News App for Lates...  19545.03\n",
              "12  Download The Times of India News App for Lates...  20987.14\n",
              "13  Download The Times of India News App for Lates...  51588.68\n",
              "14  Download The Times of India News App for Lates...  19722.16\n",
              "15  File photo used for representation.(Reuters)\\n...  18665.20\n",
              "16  Download The Times of India News App for Lates...  22482.64\n",
              "17  A Shiite Huthi rebel fighter stands guard duri...  20980.96\n",
              "18  Download The Times of India News App for Lates...  18498.25\n",
              "19  A man was arrested at the N12 roadblock on Fri...  19256.66\n",
              "20  Indian-American lawyer Seema Nanda: ( Twitter/...  17256.28\n",
              "21  Image credit: Twitter/@UHpres\\n\\nDownload The ...  15468.99\n",
              "22  Representative image (Reuters)\\n\\nDownload The...  22640.93\n",
              "23  Dr Uma Madhusudana\\n\\nDownload The Times of In...  18924.51\n",
              "24  Representative Image\\n\\nDownload The Times of ...  17466.40\n",
              "25  Representative image\\n\\nDownload The Times of ...  14295.14\n",
              "26  Indian-American Congressman Ro Khanna\\n\\nDownl...  15616.45\n",
              "27  Representative photo. (AFP)\\n\\nDownload The Ti...  20914.98\n",
              "28  Covid-19: How cops are using innovative ideas ...  22492.84\n",
              "29  From supporting each other in their respective...  16534.48\n",
              "30  Sara Ali Khan is back again with another knock...  19357.51\n",
              "31  Alphabet CEO Sundar Pichai's 2019 compensation...  19533.57\n",
              "32  Watch: Wild elephant enjoys evening walk in de...  20979.83"
            ]
          },
          "metadata": {
            "tags": []
          },
          "execution_count": 90
        }
      ]
    },
    {
      "cell_type": "code",
      "metadata": {
        "id": "2oOVYbpqmNIg",
        "colab_type": "code",
        "colab": {}
      },
      "source": [
        ""
      ],
      "execution_count": 0,
      "outputs": []
    }
  ]
}